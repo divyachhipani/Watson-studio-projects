{
    "cells": [
        {
            "metadata": {},
            "cell_type": "markdown",
            "source": "<table style=\"border: none\" align=\"left\">\n   <tr style=\"border: none\">\n      <th style=\"border: none\"><font face=\"verdana\" size=\"5\" color=\"black\"><b>Building a Chatbot using Watson\u2122 Assistant</b></th>\n      <th style=\"border: none\"><img src=\"https://github.com/pmservice/customer-satisfaction-prediction/blob/master/app/static/images/ml_icon_gray.png?raw=true\" alt=\"Watson Machine Learning icon\" height=\"40\" width=\"40\"></th>   \n   </tr>\n</table>"
        },
        {
            "metadata": {},
            "cell_type": "markdown",
            "source": "This notebook demonstrates how to build a chatbot using Watson\u2122 Assistant.\n\nThe IBM Watson\u2122 Assistant service combines machine learning, natural language understanding, and integrated dialog tools to create conversation flows between apps and users.\n\nThis notebook uses the <a href=\"http://www.cs.cmu.edu/~ark/QA-data/\" target=\"_blank\" rel=\"noopener noreferrer\">Wikipedia Q&A data set</a> collected by students at Carnegie Mellon University and the University of Pittsburgh in 2010.\n\nSome familiarity with Python is helpful. This notebook is compatible with Python 3.x and uses the <a href=\"https://cloud.ibm.com/apidocs/assistant\" target=\"_blank\" rel=\"noopener noreferrer\">Watson\u2122 Assistant API</a>.  \n\n## Learning Goals\nIn this notebook, you will learn how to build a chatbot using <a href=\"https://cloud.ibm.com/apidocs/assistant\" target=\"_blank\" rel=\"noopener noreferrer\">Watson\u2122 Assistant API</a>.\n\n\n## Contents\n1. [Set up the environment](#setup)\n2. [Create a Watson\u2122 Assistant workspace](#ws)\n3. [Explore data](#data)\n4. [Train the chatbot](#train)\n5. [Test the chatbot](#test)\n6. [Summary and next steps](#summary)"
        },
        {
            "metadata": {},
            "cell_type": "markdown",
            "source": "## 1. Set up the environment <a id=\"setup\"></a>"
        },
        {
            "metadata": {},
            "cell_type": "markdown",
            "source": "Before running the code in this notebook, please make sure to perform the following setup task:\n\n- Create a <a href=\"https://cloud.ibm.com/apidocs/assistant\" target=\"_blank\" rel=\"noopener noreferrer\">Watson\u2122 Assistant </a> service instance - a lite (free) plan is offered and information about how to create the instance can be found on IBM Cloud at <a href=\"https://cloud.ibm.com/docs/services/assistant?topic=assistant-getting-started\" target=\"_blank\" rel=\"noopener noreferrer\">https://cloud.ibm.com/docs/services/assistant?topic=assistant-getting-started</a>."
        },
        {
            "metadata": {},
            "cell_type": "markdown",
            "source": "Install the `ibm-watson` package. Currently, the required version of the package is `3.0.4`. You can find the required version information in the Watson Assistant <a href=\"https://cloud.ibm.com/apidocs/assistant\" target=\"_blank\" rel=\"noopener noreferrer\">documentation</a>."
        },
        {
            "metadata": {},
            "cell_type": "code",
            "source": "!pip install --upgrade 'ibm-watson>=3.0.4'",
            "execution_count": null,
            "outputs": []
        },
        {
            "metadata": {},
            "cell_type": "markdown",
            "source": "Import the `AssistantV1` module and authenticate the service instance. Replace `version`, `iam_apikey`, and `url` in the following cell.\n\nTo obtain your `iam_apikey` and `url`:\n\n1. Login to the <a href=\"https://cloud.ibm.com\" target=\"_blank\" rel=\"noopener noreferrer\">IBM cloud</a>.\n2. The first webpage you see is the dashboard. Find the panel that has the title `Resource summary` and click on `Services`, or directly access it via this <a href=\"https://cloud.ibm.com/resources\" target=\"_blank\" rel=\"noopener noreferrer\">link</a>.\n3. On the `Resource list` webpage, expand the `Services` list, find the service that starts with `Watson-Assistant`, and click it.\n4. You will be directed to a webpage that has the `iam_apikey` (API Key) and `url`."
        },
        {
            "metadata": {},
            "cell_type": "code",
            "source": "from ibm_watson import AssistantV1\n\nassistant = AssistantV1(\n    version='version', # '2019-02-28' is used as the version value in this notebook.\n    iam_apikey='apikey', \n    url='url'\n)",
            "execution_count": 2,
            "outputs": []
        },
        {
            "metadata": {},
            "cell_type": "markdown",
            "source": "## 2. Create a Watson\u2122 Assistant workspace <a id=\"ws\"></a>"
        },
        {
            "metadata": {},
            "cell_type": "markdown",
            "source": "In this section, you will learn how to create a Watson Assistant workspace for the `chatbot` and assign `name` and `description` values. \n\nWatson Assistant also supports Graphical User Interface (GUI), which can be accessed through <a href=\"https://cloud.ibm.com\" target=\"_blank\" rel=\"noopener noreferrer\">IBM cloud</a>. \n\nYou can launch the GUI tool by clicking on the `Launch Watson Assistant` button which you can find on the same webpage as the `iam_apikey` (API Key) and `url` in section 1. [Set up the environment](#setup)."
        },
        {
            "metadata": {},
            "cell_type": "code",
            "source": "import json\n\ncreate_workspace_response = assistant.create_workspace(\n    name='Wikipedia Q&A chatbot',\n    description='Wikipedia Q&A chatbot workspace created via API'\n).get_result()\n\nprint(json.dumps(create_workspace_response, indent=2))",
            "execution_count": 4,
            "outputs": [
                {
                    "name": "stdout",
                    "output_type": "stream",
                    "text": "{\n  \"language\": \"en\",\n  \"workspace_id\": \"c5653fb7-bc80-40de-8f13-330b7ff42944\",\n  \"name\": \"Wikipedia Q&A chatbot\",\n  \"metadata\": {\n    \"api_version\": {\n      \"major_version\": \"v1\",\n      \"minor_version\": \"2019-02-28\"\n    }\n  },\n  \"description\": \"Wikipedia Q&A chatbot workspace created via API\",\n  \"learning_opt_out\": false\n}\n"
                }
            ]
        },
        {
            "metadata": {},
            "cell_type": "markdown",
            "source": "## 3. Explore data <a id=\"data\"></a>"
        },
        {
            "metadata": {},
            "cell_type": "markdown",
            "source": "In this section, you will learn how to:\n\n- 3.1 [Download the Wikipedia Q&A data set](#download)\n- 3.2 [Preprocess data for training the chatbot](#preprocess)"
        },
        {
            "metadata": {},
            "cell_type": "markdown",
            "source": "### 3.1 Download the Wikipedia Q&A data set <a id=\"download\"></a>"
        },
        {
            "metadata": {},
            "cell_type": "markdown",
            "source": "Install the `wget` package in order to download the `Wikipedia Q&A data set`. Note that the `Wikipedia Q&A data set` is available under `GFDL` and `CC BY-SA 3.0` licenses. For more information see http://www.cs.cmu.edu/~ark/QA-data/data/README.v1.2."
        },
        {
            "metadata": {},
            "cell_type": "code",
            "source": "!pip install --upgrade wget",
            "execution_count": null,
            "outputs": []
        },
        {
            "metadata": {},
            "cell_type": "markdown",
            "source": "Import `os` and `wget` modules."
        },
        {
            "metadata": {},
            "cell_type": "code",
            "source": "from pathlib import Path\nimport os\nimport wget",
            "execution_count": 6,
            "outputs": []
        },
        {
            "metadata": {},
            "cell_type": "markdown",
            "source": "Download the data file."
        },
        {
            "metadata": {},
            "cell_type": "code",
            "source": "link_to_data = 'http://www.cs.cmu.edu/~ark/QA-data/data/Question_Answer_Dataset_v1.2.tar.gz'\nfilename = link_to_data.split('/')[-1]",
            "execution_count": 7,
            "outputs": []
        },
        {
            "metadata": {},
            "cell_type": "code",
            "source": "try:\n    data_file = Path(filename)\n    data_file_path = data_file.resolve()\nexcept FileNotFoundError:\n    downloaded_fname = wget.download(link_to_data)\n    print(downloaded_fname)\nelse:\n    print('Found a duplicate file. Deleting old file and downloading new file.')\n    os.remove(filename)\n    downloaded_fname = wget.download(link_to_data)\n    print(downloaded_fname)",
            "execution_count": 8,
            "outputs": [
                {
                    "name": "stdout",
                    "output_type": "stream",
                    "text": "Found a duplicate file. Deleting old file and download new file.\nQuestion_Answer_Dataset_v1.2.tar.gz\n"
                }
            ]
        },
        {
            "metadata": {},
            "cell_type": "code",
            "source": "!ls",
            "execution_count": 9,
            "outputs": [
                {
                    "name": "stdout",
                    "output_type": "stream",
                    "text": "Question_Answer_Dataset_v1.2.tar.gz\r\n"
                }
            ]
        },
        {
            "metadata": {},
            "cell_type": "markdown",
            "source": "Since the data file is compressed, you need to decompress (extract) using `tarfile` module."
        },
        {
            "metadata": {},
            "cell_type": "code",
            "source": "import tarfile\n\ntar = tarfile.open(filename)\ntar.extractall()\ntar.close()",
            "execution_count": 10,
            "outputs": []
        },
        {
            "metadata": {},
            "cell_type": "code",
            "source": "!ls -l",
            "execution_count": 11,
            "outputs": [
                {
                    "name": "stdout",
                    "output_type": "stream",
                    "text": "total 8068\r\ndrwxr-xr-x 5 dsxuser dsxuser    4096 Aug 23  2013 Question_Answer_Dataset_v1.2\r\n-rw-r----- 1 dsxuser dsxuser 8254496 Jul 15 21:08 Question_Answer_Dataset_v1.2.tar.gz\r\n"
                }
            ]
        },
        {
            "metadata": {},
            "cell_type": "markdown",
            "source": "You can see that there are three folders that contain `Q&A` data."
        },
        {
            "metadata": {},
            "cell_type": "code",
            "source": "!ls -l Question_Answer_Dataset_v1.2",
            "execution_count": 12,
            "outputs": [
                {
                    "name": "stdout",
                    "output_type": "stream",
                    "text": "total 40\r\n-rw-r--r-- 1 dsxuser dsxuser 22962 Nov  3  2008 LICENSE-S08,S09\r\n-rwxr-xr-x 1 dsxuser dsxuser  2823 Aug 23  2013 README.v1.2\r\ndrwxr-xr-x 3 dsxuser dsxuser  4096 Aug  6  2010 S08\r\ndrwxr-xr-x 3 dsxuser dsxuser  4096 Aug  6  2010 S09\r\ndrwxr-xr-x 3 dsxuser dsxuser  4096 Aug  6  2010 S10\r\n"
                }
            ]
        },
        {
            "metadata": {},
            "cell_type": "code",
            "source": "!ls -l Question_Answer_Dataset_v1.2/S10",
            "execution_count": 13,
            "outputs": [
                {
                    "name": "stdout",
                    "output_type": "stream",
                    "text": "total 168\r\ndrwxr-xr-x 8 dsxuser dsxuser   4096 Aug  6  2010 data\r\n-rw-r--r-- 1 dsxuser dsxuser 167585 Aug  6  2010 question_answer_pairs.txt\r\n"
                }
            ]
        },
        {
            "metadata": {},
            "cell_type": "markdown",
            "source": "### 3.2 Preprocess the data<a id=\"preprocess\"></a>"
        },
        {
            "metadata": {},
            "cell_type": "markdown",
            "source": "In this subsection, you will use the Q&A pairs collected in 2010 and perform preprocessing."
        },
        {
            "metadata": {},
            "cell_type": "code",
            "source": "file_path = os.path.join('Question_Answer_Dataset_v1.2', 'S10', 'question_answer_pairs.txt')",
            "execution_count": 14,
            "outputs": []
        },
        {
            "metadata": {},
            "cell_type": "markdown",
            "source": "Import `pandas` to explore the data set."
        },
        {
            "metadata": {},
            "cell_type": "code",
            "source": "import pandas as pd\n\ndf = pd.read_csv(file_path, delimiter='\\t', encoding='ISO-8859-1')\ndf.head(10)",
            "execution_count": 15,
            "outputs": [
                {
                    "data": {
                        "text/html": "<div>\n<style scoped>\n    .dataframe tbody tr th:only-of-type {\n        vertical-align: middle;\n    }\n\n    .dataframe tbody tr th {\n        vertical-align: top;\n    }\n\n    .dataframe thead th {\n        text-align: right;\n    }\n</style>\n<table border=\"1\" class=\"dataframe\">\n  <thead>\n    <tr style=\"text-align: right;\">\n      <th></th>\n      <th>ArticleTitle</th>\n      <th>Question</th>\n      <th>Answer</th>\n      <th>DifficultyFromQuestioner</th>\n      <th>DifficultyFromAnswerer</th>\n      <th>ArticleFile</th>\n    </tr>\n  </thead>\n  <tbody>\n    <tr>\n      <th>0</th>\n      <td>Alessandro_Volta</td>\n      <td>Was Alessandro Volta a professor of chemistry?</td>\n      <td>Alessandro Volta was not a professor of chemis...</td>\n      <td>easy</td>\n      <td>easy</td>\n      <td>data/set4/a10</td>\n    </tr>\n    <tr>\n      <th>1</th>\n      <td>Alessandro_Volta</td>\n      <td>Was Alessandro Volta a professor of chemistry?</td>\n      <td>No</td>\n      <td>easy</td>\n      <td>hard</td>\n      <td>data/set4/a10</td>\n    </tr>\n    <tr>\n      <th>2</th>\n      <td>Alessandro_Volta</td>\n      <td>Did Alessandro Volta invent the remotely opera...</td>\n      <td>Alessandro Volta did invent the remotely opera...</td>\n      <td>easy</td>\n      <td>easy</td>\n      <td>data/set4/a10</td>\n    </tr>\n    <tr>\n      <th>3</th>\n      <td>Alessandro_Volta</td>\n      <td>Did Alessandro Volta invent the remotely opera...</td>\n      <td>Yes</td>\n      <td>easy</td>\n      <td>easy</td>\n      <td>data/set4/a10</td>\n    </tr>\n    <tr>\n      <th>4</th>\n      <td>Alessandro_Volta</td>\n      <td>Was Alessandro Volta taught in public schools?</td>\n      <td>Volta was taught in public schools.</td>\n      <td>easy</td>\n      <td>easy</td>\n      <td>data/set4/a10</td>\n    </tr>\n    <tr>\n      <th>5</th>\n      <td>Alessandro_Volta</td>\n      <td>Was Alessandro Volta taught in public schools?</td>\n      <td>Yes</td>\n      <td>easy</td>\n      <td>easy</td>\n      <td>data/set4/a10</td>\n    </tr>\n    <tr>\n      <th>6</th>\n      <td>Alessandro_Volta</td>\n      <td>Who did Alessandro Volta marry?</td>\n      <td>Alessandro Volta married Teresa Peregrini.</td>\n      <td>medium</td>\n      <td>medium</td>\n      <td>data/set4/a10</td>\n    </tr>\n    <tr>\n      <th>7</th>\n      <td>Alessandro_Volta</td>\n      <td>Who did Alessandro Volta marry?</td>\n      <td>Teresa Peregrini</td>\n      <td>medium</td>\n      <td>medium</td>\n      <td>data/set4/a10</td>\n    </tr>\n    <tr>\n      <th>8</th>\n      <td>Alessandro_Volta</td>\n      <td>What did Alessandro Volta invent in 1800?</td>\n      <td>In 1800, Alessandro Volta invented the voltaic...</td>\n      <td>medium</td>\n      <td>easy</td>\n      <td>data/set4/a10</td>\n    </tr>\n    <tr>\n      <th>9</th>\n      <td>Alessandro_Volta</td>\n      <td>What did Alessandro Volta invent in 1800?</td>\n      <td>voltaic pile</td>\n      <td>medium</td>\n      <td>medium</td>\n      <td>data/set4/a10</td>\n    </tr>\n  </tbody>\n</table>\n</div>",
                        "text/plain": "       ArticleTitle                                           Question  \\\n0  Alessandro_Volta     Was Alessandro Volta a professor of chemistry?   \n1  Alessandro_Volta     Was Alessandro Volta a professor of chemistry?   \n2  Alessandro_Volta  Did Alessandro Volta invent the remotely opera...   \n3  Alessandro_Volta  Did Alessandro Volta invent the remotely opera...   \n4  Alessandro_Volta     Was Alessandro Volta taught in public schools?   \n5  Alessandro_Volta     Was Alessandro Volta taught in public schools?   \n6  Alessandro_Volta                    Who did Alessandro Volta marry?   \n7  Alessandro_Volta                    Who did Alessandro Volta marry?   \n8  Alessandro_Volta          What did Alessandro Volta invent in 1800?   \n9  Alessandro_Volta          What did Alessandro Volta invent in 1800?   \n\n                                              Answer DifficultyFromQuestioner  \\\n0  Alessandro Volta was not a professor of chemis...                     easy   \n1                                                 No                     easy   \n2  Alessandro Volta did invent the remotely opera...                     easy   \n3                                                Yes                     easy   \n4                Volta was taught in public schools.                     easy   \n5                                                Yes                     easy   \n6         Alessandro Volta married Teresa Peregrini.                   medium   \n7                                   Teresa Peregrini                   medium   \n8  In 1800, Alessandro Volta invented the voltaic...                   medium   \n9                                       voltaic pile                   medium   \n\n  DifficultyFromAnswerer    ArticleFile  \n0                   easy  data/set4/a10  \n1                   hard  data/set4/a10  \n2                   easy  data/set4/a10  \n3                   easy  data/set4/a10  \n4                   easy  data/set4/a10  \n5                   easy  data/set4/a10  \n6                 medium  data/set4/a10  \n7                 medium  data/set4/a10  \n8                   easy  data/set4/a10  \n9                 medium  data/set4/a10  "
                    },
                    "execution_count": 15,
                    "metadata": {},
                    "output_type": "execute_result"
                }
            ]
        },
        {
            "metadata": {},
            "cell_type": "markdown",
            "source": "The data set has 6 columns - `ArticleTitle`, `Question`, `Answer`, `DifficultyFromQuestioner`, `DifficultyFromAnswerer`, and `ArticleFile`."
        },
        {
            "metadata": {},
            "cell_type": "code",
            "source": "df.info()",
            "execution_count": 16,
            "outputs": [
                {
                    "name": "stdout",
                    "output_type": "stream",
                    "text": "<class 'pandas.core.frame.DataFrame'>\nRangeIndex: 1458 entries, 0 to 1457\nData columns (total 6 columns):\nArticleTitle                1458 non-null object\nQuestion                    1440 non-null object\nAnswer                      1222 non-null object\nDifficultyFromQuestioner    1262 non-null object\nDifficultyFromAnswerer      1222 non-null object\nArticleFile                 1458 non-null object\ndtypes: object(6)\nmemory usage: 68.4+ KB\n"
                }
            ]
        },
        {
            "metadata": {},
            "cell_type": "markdown",
            "source": "Check if there are `NaN` (Not a Number) values."
        },
        {
            "metadata": {},
            "cell_type": "code",
            "source": "df.isnull().sum()",
            "execution_count": 17,
            "outputs": [
                {
                    "data": {
                        "text/plain": "ArticleTitle                  0\nQuestion                     18\nAnswer                      236\nDifficultyFromQuestioner    196\nDifficultyFromAnswerer      236\nArticleFile                   0\ndtype: int64"
                    },
                    "execution_count": 17,
                    "metadata": {},
                    "output_type": "execute_result"
                }
            ]
        },
        {
            "metadata": {},
            "cell_type": "markdown",
            "source": "Since there are NaN's, remove them, and select only `ArticleTitle`, `Question`, `Answer` columns for training the chatbot."
        },
        {
            "metadata": {},
            "cell_type": "code",
            "source": "df = df.loc[:, ['ArticleTitle', 'Question', 'Answer']]\ndf.dropna(inplace=True)",
            "execution_count": 18,
            "outputs": []
        },
        {
            "metadata": {},
            "cell_type": "code",
            "source": "df.info()",
            "execution_count": 19,
            "outputs": [
                {
                    "name": "stdout",
                    "output_type": "stream",
                    "text": "<class 'pandas.core.frame.DataFrame'>\nInt64Index: 1222 entries, 0 to 1457\nData columns (total 3 columns):\nArticleTitle    1222 non-null object\nQuestion        1222 non-null object\nAnswer          1222 non-null object\ndtypes: object(3)\nmemory usage: 38.2+ KB\n"
                }
            ]
        },
        {
            "metadata": {},
            "cell_type": "markdown",
            "source": "Check if there are still NaN's."
        },
        {
            "metadata": {},
            "cell_type": "code",
            "source": "df.isnull().sum()",
            "execution_count": 20,
            "outputs": [
                {
                    "data": {
                        "text/plain": "ArticleTitle    0\nQuestion        0\nAnswer          0\ndtype: int64"
                    },
                    "execution_count": 20,
                    "metadata": {},
                    "output_type": "execute_result"
                }
            ]
        },
        {
            "metadata": {},
            "cell_type": "markdown",
            "source": "## 4. Train the chatbot <a id=\"train\"></a>"
        },
        {
            "metadata": {},
            "cell_type": "markdown",
            "source": "In this section, you will learn how to train a chatbot."
        },
        {
            "metadata": {},
            "cell_type": "markdown",
            "source": "Due to the rate limit of the Watson Assistant service, you will use 3 `articles`. Each `article` has unique `questions`, and each `question` can have `multiple answers`."
        },
        {
            "metadata": {},
            "cell_type": "code",
            "source": "articles = df['ArticleTitle'].unique().tolist()\narticles = articles[:3]",
            "execution_count": 21,
            "outputs": []
        },
        {
            "metadata": {},
            "cell_type": "markdown",
            "source": "The `intents` are the unique questions of each article. Each unique questions have at least two different answers.\n\nCreate a `dialog` for each question and assign the answers. You can learn the details of each term, `intent`, `dialog`, etc., from the <a href=\"https://cloud.ibm.com/docs/services/assistant?topic=assistant-getting-started\" target=\"_blank\" rel=\"noopener noreferrer\">Watson\u2122 Assistant</a> documentation and the <a href=\"https://cloud.ibm.com/apidocs/assistant\" target=\"_blank\" rel=\"noopener noreferrer\">Watson Assistant API</a> documentation."
        },
        {
            "metadata": {},
            "cell_type": "code",
            "source": "workspace_id = create_workspace_response['workspace_id']\n\nfor article in articles:\n    # Get unique questions from the selected articles.\n    questions = df[df['ArticleTitle'] == article]['Question'].unique()\n    idx = 0\n    \n    # For each question, the intent name is assigned as 'article_name_idx'.\n    for q in questions:\n        intent_name = article + '_' + str(idx)\n        \n        # Create an intent for the question.\n        assistant.create_intent(\n            workspace_id=workspace_id,\n            intent=intent_name,\n            examples=[\n                {'text': q}\n            ]\n        )\n        idx += 1\n        \n        # Create a dialog node.\n        assistant.create_dialog_node(\n            workspace_id=workspace_id,\n            dialog_node=intent_name.lower(),\n            conditions='#' + intent_name,\n            # Pair the question and the answers.\n            output={\n                'text': df[(df['ArticleTitle'] == article) & (df['Question'] == q)]['Answer'].tolist()\n            },\n            title=intent_name\n        )",
            "execution_count": 22,
            "outputs": []
        },
        {
            "metadata": {},
            "cell_type": "markdown",
            "source": "## 5. Test the chatbot <a id=\"test\"></a>"
        },
        {
            "metadata": {},
            "cell_type": "markdown",
            "source": "In this section, you will learn how to test the trained chatbot."
        },
        {
            "metadata": {},
            "cell_type": "markdown",
            "source": "Import `random` module in order to make the chatbot randomly select the answer from given answers to the question. As mentioned in section [4. Train the chatbot](#train), a question can have multiple answers according to the data set."
        },
        {
            "metadata": {},
            "cell_type": "code",
            "source": "import random",
            "execution_count": 23,
            "outputs": []
        },
        {
            "metadata": {},
            "cell_type": "markdown",
            "source": "Here are some questions from the data set you can try:\n\n1. Was Alessandro Volta a professor of chemistry?\n2. Was Avogadro a  professor at the University of Turin?\n3. Do ants belong to the same order as bees?\n\nIf you want to quit the chatbot, just type in `quit`."
        },
        {
            "metadata": {},
            "cell_type": "code",
            "source": "print('Welcome to the Watson Assistant example!\\n')\n\nwhile True:\n    q = input('Enter a question: ')\n    if q != 'quit':\n        response = assistant.message(\n            workspace_id=create_workspace_response['workspace_id'],\n            input={\n                'text': q\n            }\n        ).get_result()\n        print(random.choice(response['output']['text']) + '\\n')\n    else:\n        break",
            "execution_count": 24,
            "outputs": [
                {
                    "name": "stdout",
                    "output_type": "stream",
                    "text": "Welcome to the Watson Assistant example!\n\nEnter a question: Was Alessandro Volta a professor of chemistry?\nNo\n\nEnter a question: Was Avogadro a professor at the University of Turin?\nAlessandro Volta was not a professor of chemistry.\n\nEnter a question: Do ants belong to the same order as bees?\nYes, ants belong to the same order as bees.\n\nEnter a question: quit\n"
                }
            ]
        },
        {
            "metadata": {},
            "cell_type": "markdown",
            "source": "## 6. Summary and next steps <a id=\"summary\"></a>"
        },
        {
            "metadata": {},
            "cell_type": "markdown",
            "source": "You successfully completed this notebook!\n\nYou learned how to create a simple chatbot using <a href=\"https://cloud.ibm.com/apidocs/assistant\" target=\"_blank\" rel=\"noopener noreferrer\">Watson\u2122 Assistant API</a> and Python 3.x.\n\nCurrently, you cannot deploy your chatbot via Watson Studio, but you can deploy your it using the GUI tool mentioned section [2. Create a Watson\u2122 Assistant workspace](#ws).\n\nYou can also integrate your chatbot with a custom application, Intercom, Facebook Messenger, web-hosted chat widget, and Slack. You can find the details in the Watson Assistant <a href=\"https://cloud.ibm.com/docs/services/assistant?topic=assistant-deploy-integration-add\" target=\"_blank\" rel=\"noopener noreferrer\">documenation</a>."
        },
        {
            "metadata": {},
            "cell_type": "markdown",
            "source": "### Citation\nNoah Smith, Michael Heilman, Rebecca Hwa, Shay Cohen, Kevin Gimpel, and many students at Carnegie Mellon University and the University of Pittsburgh, <a href=\"http://www.cs.cmu.edu/~ark/QA-data/\" target=\"_blank\" rel=\"noopener noreferrer\">http://www.cs.cmu.edu/~ark/QA-data/</a>, 2008-2010. "
        },
        {
            "metadata": {},
            "cell_type": "markdown",
            "source": "### Author\n \n**Jihyoung Kim**, Ph.D., is a Data Scientist at IBM who strives to make data science easy for everyone through Watson Studio."
        },
        {
            "metadata": {},
            "cell_type": "markdown",
            "source": "Copyright \u00a9 2019 IBM. This notebook and its source code are released under the terms of the MIT License. The data set is separately licensed under the terms of the GFDL (http://www.gnu.org/licenses/fdl.html) and the CC BY-SA 3.0 (http://creativecommons.org/licenses/by-sa/3.0/)."
        },
        {
            "metadata": {},
            "cell_type": "markdown",
            "source": "<div style=\"background:#F5F7FA; height:110px; padding: 2em; font-size:14px;\">\n<span style=\"font-size:18px;color:#152935;\">Love this notebook? </span>\n<span style=\"font-size:15px;color:#152935;float:right;margin-right:40px;\">Don't have an account yet?</span><br>\n<span style=\"color:#5A6872;\">Share it with your colleagues and help them discover the power of Watson Studio!</span>\n<span style=\"border: 1px solid #3d70b2;padding:8px;float:right;margin-right:40px; color:#3d70b2;\"><a href=\"https://ibm.co/wsnotebooks\" target=\"_blank\" style=\"color: #3d70b2;text-decoration: none;\">Sign Up</a></span><br>\n</div>"
        }
    ],
    "metadata": {
        "kernelspec": {
            "name": "python3",
            "display_name": "Python 3.6",
            "language": "python"
        },
        "language_info": {
            "name": "python",
            "version": "3.6.9",
            "mimetype": "text/x-python",
            "codemirror_mode": {
                "name": "ipython",
                "version": 3
            },
            "pygments_lexer": "ipython3",
            "nbconvert_exporter": "python",
            "file_extension": ".py"
        }
    },
    "nbformat": 4,
    "nbformat_minor": 1
}